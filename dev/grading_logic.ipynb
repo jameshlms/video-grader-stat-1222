{
 "cells": [
  {
   "cell_type": "markdown",
   "id": "a65521f6",
   "metadata": {},
   "source": [
    "# Grading Logic\n",
    "\n",
    "Copy and paste the specified cell's code into the _python-snippet.js_ file as the value of `pythonCode`.\n"
   ]
  },
  {
   "cell_type": "markdown",
   "id": "e0520da0",
   "metadata": {},
   "source": [
    "Global variables that would be given by javascript:\n"
   ]
  },
  {
   "cell_type": "code",
   "execution_count": 1,
   "id": "7e587bd1",
   "metadata": {},
   "outputs": [],
   "source": [
    "all_names = [\n",
    "    \"Ada Lovelace\",\n",
    "    \"Alan Turing\",\n",
    "    \"John Doe\",\n",
    "    \"Jane Smith\",\n",
    "    \"Emily Johnson\",\n",
    "    \"Nick Fury\",\n",
    "]\n",
    "csv_list = [\n",
    "    \"test_data/statistics_1.csv\",\n",
    "    \"test_data/statistics_2.csv\",\n",
    "    \"test_data/statistics_3.csv\",\n",
    "]\n",
    "forgive_deg = 1\n",
    "threshold = 0.8"
   ]
  },
  {
   "cell_type": "code",
   "execution_count": 5,
   "id": "24224a94",
   "metadata": {},
   "outputs": [
    {
     "data": {
      "text/html": [
       "<div>\n",
       "<style scoped>\n",
       "    .dataframe tbody tr th:only-of-type {\n",
       "        vertical-align: middle;\n",
       "    }\n",
       "\n",
       "    .dataframe tbody tr th {\n",
       "        vertical-align: top;\n",
       "    }\n",
       "\n",
       "    .dataframe thead th {\n",
       "        text-align: right;\n",
       "    }\n",
       "</style>\n",
       "<table border=\"1\" class=\"dataframe\">\n",
       "  <thead>\n",
       "    <tr style=\"text-align: right;\">\n",
       "      <th></th>\n",
       "      <th>Name</th>\n",
       "      <th>Completion Rate</th>\n",
       "      <th>Email</th>\n",
       "      <th>Role</th>\n",
       "    </tr>\n",
       "  </thead>\n",
       "  <tbody>\n",
       "    <tr>\n",
       "      <th>0</th>\n",
       "      <td>Ada Lovelace</td>\n",
       "      <td>100%</td>\n",
       "      <td>alovelace@gmail.com</td>\n",
       "      <td>Student</td>\n",
       "    </tr>\n",
       "    <tr>\n",
       "      <th>1</th>\n",
       "      <td>Alan Turing</td>\n",
       "      <td>95%</td>\n",
       "      <td>aturing@gmail.com</td>\n",
       "      <td>Student</td>\n",
       "    </tr>\n",
       "    <tr>\n",
       "      <th>2</th>\n",
       "      <td>John Doe</td>\n",
       "      <td>85%</td>\n",
       "      <td>jdoe@gmail.com</td>\n",
       "      <td>Student</td>\n",
       "    </tr>\n",
       "    <tr>\n",
       "      <th>3</th>\n",
       "      <td>Jane Smith</td>\n",
       "      <td>75%</td>\n",
       "      <td>jsmith@gmail.com</td>\n",
       "      <td>Student</td>\n",
       "    </tr>\n",
       "    <tr>\n",
       "      <th>4</th>\n",
       "      <td>Albert Einstein</td>\n",
       "      <td>90%</td>\n",
       "      <td>aeinstein@gmail.com</td>\n",
       "      <td>Student</td>\n",
       "    </tr>\n",
       "  </tbody>\n",
       "</table>\n",
       "</div>"
      ],
      "text/plain": [
       "              Name Completion Rate                Email     Role\n",
       "0     Ada Lovelace            100%  alovelace@gmail.com  Student\n",
       "1      Alan Turing             95%    aturing@gmail.com  Student\n",
       "2         John Doe             85%       jdoe@gmail.com  Student\n",
       "3       Jane Smith             75%     jsmith@gmail.com  Student\n",
       "4  Albert Einstein             90%  aeinstein@gmail.com  Student"
      ]
     },
     "execution_count": 5,
     "metadata": {},
     "output_type": "execute_result"
    }
   ],
   "source": [
    "import csv\n",
    "import io\n",
    "import pandas as pd\n",
    "\n",
    "csv_texts = []\n",
    "for path in csv_list:\n",
    "    with open(path, \"r\") as f:\n",
    "        csv_texts.append(f.read())\n",
    "\n",
    "csv_texts\n",
    "pd.read_csv(csv_list[0], usecols=[\"Name\", \"Email\", \"Role\", \"Completion Rate\"]).head()"
   ]
  },
  {
   "cell_type": "markdown",
   "id": "634f7082",
   "metadata": {},
   "source": [
    "Grading Algorithm\n"
   ]
  },
  {
   "cell_type": "code",
   "execution_count": null,
   "id": "9d96cc92",
   "metadata": {
    "tags": [
     "grading-logic"
    ]
   },
   "outputs": [],
   "source": [
    "from pandas import DataFrame, read_csv, Series\n",
    "from numpy import where\n",
    "from json import dumps\n",
    "from io import StringIO\n",
    "\n",
    "all_names = list(all_names)\n",
    "num_students = len(all_names)\n",
    "\n",
    "df = DataFrame(\n",
    "    {\n",
    "        \"name\": all_names,\n",
    "        \"completed\": [True] * num_students,\n",
    "        \"forgivenessDegree\": [forgive_deg] * num_students,\n",
    "    }\n",
    ")\n",
    "\n",
    "for i, csv_file in enumerate(csv_list, start=1):\n",
    "    vid_col = f\"video{i}Completion\"\n",
    "\n",
    "    temp: DataFrame = read_csv(csv_file, usecols=[\"Name\", \"Completion Rate\"])\n",
    "    temp = temp.rename(columns={\"Name\": \"name\", \"Completion Rate\": vid_col})\n",
    "\n",
    "    df = df.merge(temp, on=\"name\", how=\"left\")\n",
    "    df[vid_col] = df[vid_col].fillna(0.0)\n",
    "    df[vid_col] = df[vid_col].apply( \n",
    "        lambda x: float(x.rstrip(\"%\")) / 100.0 if isinstance(x, str) else x\n",
    "    )\n",
    "\n",
    "    vid_completed: Series[bool] = df[vid_col] >= threshold\n",
    "    df[\"forgivenessDegree\"] = df[\"forgivenessDegree\"] - (~vid_completed).astype(int)\n",
    "    df[\"completed\"] = (df[\"completed\"] & vid_completed) | (df[\"forgivenessDegree\"] >= 0)\n",
    "\n",
    "\n",
    "ignored_missing_vids: Series[int] = where(\n",
    "    df[\"forgivenessDegree\"] - forgive_deg >= -forgive_deg,\n",
    "    -(df[\"forgivenessDegree\"] - forgive_deg),\n",
    "    forgive_deg,\n",
    ")\n",
    "df[\"ignoredMissingVideos\"] = ignored_missing_vids\n",
    "df = df.drop(columns=[\"forgivenessDegree\"])\n",
    "\n",
    "result: str = dumps(\n",
    "    {\n",
    "        \"count\": num_students,\n",
    "        \"data\": df.to_dict(orient=\"list\"),\n",
    "    }\n",
    ")"
   ]
  },
  {
   "cell_type": "code",
   "execution_count": null,
   "id": "13c5f200",
   "metadata": {},
   "outputs": [
    {
     "data": {
      "text/plain": [
       "{'count': 6,\n",
       " 'data': {'name': ['Ada Lovelace',\n",
       "   'Alan Turing',\n",
       "   'John Doe',\n",
       "   'Jane Smith',\n",
       "   'Emily Johnson',\n",
       "   'Nick Fury'],\n",
       "  'completed': [True, True, False, True, False, False],\n",
       "  'video1Completion': [1.0, 0.95, 0.85, 0.75, 0.0, 0.0],\n",
       "  'video2Completion': [1.0, 0.8, 0.5, 0.85, 0.9, 0.0],\n",
       "  'video3Completion': [1.0, 0.5, 0.5, 0.9, 0.6, 0.0],\n",
       "  'ignoredMissingVideos': [0, 1, 1, 1, 1, 1]}}"
      ]
     },
     "execution_count": 5,
     "metadata": {},
     "output_type": "execute_result"
    }
   ],
   "source": [
    "import json\n",
    "\n",
    "str(json.loads(result))"
   ]
  }
 ],
 "metadata": {
  "kernelspec": {
   "display_name": ".venv",
   "language": "python",
   "name": "python3"
  },
  "language_info": {
   "codemirror_mode": {
    "name": "ipython",
    "version": 3
   },
   "file_extension": ".py",
   "mimetype": "text/x-python",
   "name": "python",
   "nbconvert_exporter": "python",
   "pygments_lexer": "ipython3",
   "version": "3.12.9"
  }
 },
 "nbformat": 4,
 "nbformat_minor": 5
}
