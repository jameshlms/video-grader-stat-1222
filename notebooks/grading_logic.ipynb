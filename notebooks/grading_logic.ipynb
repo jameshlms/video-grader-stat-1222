{
 "cells": [
  {
   "cell_type": "markdown",
   "id": "a65521f6",
   "metadata": {},
   "source": [
    "# Grading Logic\n",
    "\n",
    "Copy and paste the specified cell's code into the _python-snippet.js_ file as the value of `pythonCode`.\n"
   ]
  },
  {
   "cell_type": "markdown",
   "id": "e0520da0",
   "metadata": {},
   "source": [
    "Global variables that would be given by javascript:\n"
   ]
  },
  {
   "cell_type": "code",
   "execution_count": 2,
   "id": "7e587bd1",
   "metadata": {},
   "outputs": [],
   "source": [
    "all_names = [\n",
    "    \"Ada Lovelace\",\n",
    "    \"Alan Turing\",\n",
    "    \"John Doe\",\n",
    "    \"Jane Smith\",\n",
    "    \"Emily Johnson\",\n",
    "    \"Nick Fury\",\n",
    "]\n",
    "csv_list = [\n",
    "    \"test_data/statistics_1.csv\",\n",
    "    \"test_data/statistics_2.csv\",\n",
    "    \"test_data/statistics_3.csv\",\n",
    "]\n",
    "forgive_deg = 1\n",
    "threshold = 0.8"
   ]
  },
  {
   "cell_type": "code",
   "execution_count": 7,
   "id": "24224a94",
   "metadata": {},
   "outputs": [
    {
     "data": {
      "text/plain": [
       "['Name,Completion Rate,Email,Role\\nAda Lovelace,100%,alovelace@gmail.com,Student\\nAlan Turing,95%,aturing@gmail.com,Student\\nJohn Doe,85%,jdoe@gmail.com,Student\\nJane Smith,75%,jsmith@gmail.com,Student\\nAlbert Einstein,90%,aeinstein@gmail.com,Student\\nIsaac Newton,88%,inewton@gmail.com,Student\\nMarie Curie,92%,mcurie@gmail.com,Student\\nNikola Tesla,80%,ntesla@gmail.com,Student\\nRosalind Franklin,78%,rfranklin@gmail.com,Student\\nCharles Darwin,83%,cdarwin@gmail.com,Student\\nKatherine Johnson,97%,kjohnson@gmail.com,Student\\nGrace Hopper,99%,ghopper@gmail.com,Student\\nCarl Gauss,87%,cgauss@gmail.com,Student\\nRichard Feynman,91%,rfeynman@gmail.com,Student\\nSrinivasa Ramanujan,89%,sramanujan@gmail.com,Student\\nBarbara McClintock,86%,bmcclintock@gmail.com,Student\\nJames Clerk Maxwell,93%,jmaxwell@gmail.com,Student\\nDorothy Vaughan,94%,dvaughan@gmail.com,Student\\nStephen Hawking,96%,shawking@gmail.com,Student\\nEmmy Noether,90%,enoether@gmail.com,Student\\nLeonhard Euler,88%,leuler@gmail.com,Student\\nAda Yonath,85%,ayonath@gmail.com,Student\\nPaul Dirac,84%,pdirac@gmail.com,Student\\nMary Anning,82%,manning@gmail.com,Student\\nNiels Bohr,95%,nbohr@gmail.com,Student\\nLise Meitner,91%,lmeitner@gmail.com,Student\\nEnrico Fermi,87%,efermi@gmail.com,Student\\nJane Goodall,93%,jgoodall@gmail.com,Student\\nMax Planck,89%,mplanck@gmail.com,Student\\nChien-Shiung Wu,92%,cwu@gmail.com,Student\\nErwin SchrÃ¶dinger,90%,eschrodinger@gmail.com,Student\\nRachel Carson,88%,rcarson@gmail.com,Student\\nMichael Faraday,86%,mfaraday@gmail.com,Student\\nFlorence Nightingale,94%,fnightingale@gmail.com,Student\\nGregor Mendel,85%,gmendel@gmail.com,Student\\nHenrietta Leavitt,83%,hleavitt@gmail.com,Student\\nWerner Heisenberg,91%,wheisenberg@gmail.com,Student\\nJocelyn Bell Burnell,87%,jbellburnell@gmail.com,Student\\nJonas Salk,90%,jsalk@gmail.com,Student\\nTim Berners-Lee,95%,tbernerslee@gmail.com,Student\\nMae Jemison,93%,mjemison@gmail.com,Student\\nGeorge Washington Carver,88%,gcarver@gmail.com,Student\\nDorothy Hodgkin,92%,dhodgkin@gmail.com,Student\\nLinus Pauling,89%,lpauling@gmail.com,Student\\nVera Rubin,85%,vrubin@gmail.com,Student\\nRichard Dawkins,84%,rdawkins@gmail.com,Student\\nTu Youyou,91%,tyouyou@gmail.com,Student\\nFreeman Dyson,87%,fdyson@gmail.com,Student\\nRita Levi-Montalcini,90%,rlevimontalcini@gmail.com,Student\\nSubrahmanyan Chandrasekhar,88%,schandrasekhar@gmail.com,Student\\nBarbara Liskov,86%,bliskov@gmail.com,Student\\nJohn von Neumann,94%,jvneumann@gmail.com,Student\\nHedy Lamarr,92%,hlamarr@gmail.com,Student\\nDonald Knuth,95%,dknuth@gmail.com,Student\\nEdsger Dijkstra,93%,edijkstra@gmail.com,Student\\nFrances Arnold,89%,farnold@gmail.com,Student\\nJean Bartik,87%,jbartik@gmail.com,Student\\nClaude Shannon,90%,cshannon@gmail.com,Student\\nMargaret Hamilton,96%,mhamilton@gmail.com,Student\\nBrian Kernighan,88%,bkernighan@gmail.com,Student\\nDennis Ritchie,91%,dritchie@gmail.com,Student\\nRadia Perlman,85%,rperlman@gmail.com,Student\\nJohn Bardeen,92%,jbardeen@gmail.com,Student\\nElizabeth Blackwell,90%,eblackwell@gmail.com,Student\\nSophie Germain,87%,sgermain@gmail.com,Student\\nAlessandro Volta,89%,avolta@gmail.com,Student\\nIrÃ¨ne Joliot-Curie,93%,ijcurie@gmail.com,Student\\nJames Watson,86%,jwatson@gmail.com,Student\\nFrancis Crick,88%,fcrick@gmail.com,Student\\nMary Leakey,91%,mleakey@gmail.com,Student\\nJanet Taylor,85%,jtaylor@gmail.com,Student\\nJohn Nash,94%,jnash@gmail.com,Student\\nMary Cartwright,90%,mcartwright@gmail.com,Student\\nAlan Kay,92%,akay@gmail.com,Student\\nAda King,50%,aking@gmail.com,Student\\nJohn McCarthy,50%,jmccarthy@gmail.com,Student\\nBarbara McMartin,50%,bmcmartin@gmail.com,Student\\nEvelyn Boyd Granville,50%,egranville@gmail.com,Student\\nWilliam Shockley,50%,wshockley@gmail.com,Student\\nHedy Lamarr,50%,hlamarr@gmail.com,Student',\n",
       " 'Name,Completion Rate,Email,Role\\nAda Lovelace,100%,alovelace@gmail.com,Student\\nAlan Turing,80%,aturing@gmail.com,Student\\nJohn Doe,90%,jdoe@gmail.com,Student\\nJane Smith,85%,jsmith@gmail.com,Student\\nAlbert Einstein,90%,aeinstein@gmail.com,Student\\nIsaac Newton,88%,inewton@gmail.com,Student\\nMarie Curie,92%,mcurie@gmail.com,Student\\nNikola Tesla,80%,ntesla@gmail.com,Student\\nRosalind Franklin,78%,rfranklin@gmail.com,Student\\nCharles Darwin,83%,cdarwin@gmail.com,Student\\nKatherine Johnson,97%,kjohnson@gmail.com,Student\\nGrace Hopper,99%,ghopper@gmail.com,Student\\nCarl Gauss,87%,cgauss@gmail.com,Student\\nRichard Feynman,91%,rfeynman@gmail.com,Student\\nSrinivasa Ramanujan,89%,sramanujan@gmail.com,Student\\nBarbara McClintock,86%,bmcclintock@gmail.com,Student\\nJames Clerk Maxwell,93%,jmaxwell@gmail.com,Student\\nDorothy Vaughan,94%,dvaughan@gmail.com,Student\\nStephen Hawking,96%,shawking@gmail.com,Student\\nEmmy Noether,90%,enoether@gmail.com,Student\\nLeonhard Euler,88%,leuler@gmail.com,Student\\nAda Yonath,85%,ayonath@gmail.com,Student\\nPaul Dirac,84%,pdirac@gmail.com,Student\\nMary Anning,82%,manning@gmail.com,Student\\nNiels Bohr,95%,nbohr@gmail.com,Student\\nLise Meitner,91%,lmeitner@gmail.com,Student\\nEnrico Fermi,87%,efermi@gmail.com,Student\\nJane Goodall,93%,jgoodall@gmail.com,Student\\nMax Planck,89%,mplanck@gmail.com,Student\\nChien-Shiung Wu,92%,cwu@gmail.com,Student\\nErwin SchrÃ¶dinger,90%,eschrodinger@gmail.com,Student\\nRachel Carson,88%,rcarson@gmail.com,Student\\nMichael Faraday,86%,mfaraday@gmail.com,Student\\nFlorence Nightingale,94%,fnightingale@gmail.com,Student\\nGregor Mendel,85%,gmendel@gmail.com,Student\\nHenrietta Leavitt,83%,hleavitt@gmail.com,Student\\nWerner Heisenberg,91%,wheisenberg@gmail.com,Student\\nJocelyn Bell Burnell,87%,jbellburnell@gmail.com,Student\\nJonas Salk,90%,jsalk@gmail.com,Student\\nTim Berners-Lee,95%,tbernerslee@gmail.com,Student',\n",
       " 'Name,Completion Rate,Email,Role\\nAda Lovelace,100%,alovelace@gmail.com,Student\\nAlan Turing,50%,aturing@gmail.com,Student\\nJohn Doe,50%,jdoe@gmail.com,Student\\nJane Smith,90%,jsmith@gmail.com,Student\\nEmily Johnson,60%,ejohnson@gmail.com,Student\\n']"
      ]
     },
     "execution_count": 7,
     "metadata": {},
     "output_type": "execute_result"
    }
   ],
   "source": [
    "csv_texts = []\n",
    "for path in csv_list:\n",
    "    with open(path, \"r\") as f:\n",
    "        csv_texts.append(f.read())\n",
    "\n",
    "csv_texts\n"
   ]
  },
  {
   "cell_type": "markdown",
   "id": "634f7082",
   "metadata": {},
   "source": [
    "Grading Algorithm\n"
   ]
  },
  {
   "cell_type": "code",
   "execution_count": null,
   "id": "9d96cc92",
   "metadata": {
    "tags": [
     "grading-logic"
    ]
   },
   "outputs": [],
   "source": [
    "from pandas import DataFrame, read_csv, Series\n",
    "from numpy import where\n",
    "from json import dumps\n",
    "\n",
    "all_names = list(all_names)\n",
    "num_students = len(all_names)\n",
    "\n",
    "df = DataFrame(\n",
    "    {\n",
    "        \"name\": all_names,\n",
    "        \"completed\": [True] * num_students,\n",
    "        \"forgivenessDegree\": [forgive_deg] * num_students,\n",
    "    }\n",
    ")\n",
    "\n",
    "for i, csv_file in enumerate(csv_list, start=1):\n",
    "    vid_col = f\"video{i}Completion\"\n",
    "\n",
    "    temp: DataFrame = read_csv(csv_file, usecols=[\"Name\", \"Completion Rate\"])\n",
    "    temp = temp.rename(columns={\"Name\": \"name\", \"Completion Rate\": vid_col})\n",
    "\n",
    "    df = df.merge(temp, on=\"name\", how=\"left\")\n",
    "    df[vid_col] = df[vid_col].fillna(0.0)\n",
    "    df[vid_col] = df[vid_col].apply(\n",
    "        lambda x: float(x.rstrip(\"%\")) / 100.0 if isinstance(x, str) else x\n",
    "    )\n",
    "\n",
    "    vid_completed: Series[bool] = df[vid_col] >= threshold\n",
    "    df[\"forgivenessDegree\"] = df[\"forgivenessDegree\"] - (~vid_completed).astype(int)\n",
    "    df[\"completed\"] = (df[\"completed\"] & vid_completed) | (df[\"forgivenessDegree\"] >= 0)\n",
    "\n",
    "\n",
    "ignored_missing_vids: Series[int] = where(\n",
    "    df[\"forgivenessDegree\"] - forgive_deg >= -forgive_deg,\n",
    "    -(df[\"forgivenessDegree\"] - forgive_deg),\n",
    "    forgive_deg,\n",
    ")\n",
    "df[\"ignoredMissingVideos\"] = ignored_missing_vids\n",
    "df = df.drop(columns=[\"forgivenessDegree\"])\n",
    "\n",
    "result: str = dumps(\n",
    "    {\n",
    "        \"count\": num_students,\n",
    "        \"data\": df.to_dict(orient=\"list\"),\n",
    "    }\n",
    ")"
   ]
  },
  {
   "cell_type": "code",
   "execution_count": null,
   "id": "13c5f200",
   "metadata": {},
   "outputs": [
    {
     "data": {
      "text/plain": [
       "{'count': 6,\n",
       " 'data': {'name': ['Ada Lovelace',\n",
       "   'Alan Turing',\n",
       "   'John Doe',\n",
       "   'Jane Smith',\n",
       "   'Emily Johnson',\n",
       "   'Nick Fury'],\n",
       "  'completed': [True, True, False, True, False, False],\n",
       "  'video1Completion': [1.0, 0.95, 0.85, 0.75, 0.0, 0.0],\n",
       "  'video2Completion': [1.0, 0.8, 0.5, 0.85, 0.9, 0.0],\n",
       "  'video3Completion': [1.0, 0.5, 0.5, 0.9, 0.6, 0.0],\n",
       "  'ignoredMissingVideos': [0, 1, 1, 1, 1, 1]}}"
      ]
     },
     "execution_count": 5,
     "metadata": {},
     "output_type": "execute_result"
    }
   ],
   "source": [
    "import json\n",
    "\n",
    "str(json.loads(result))"
   ]
  },
  {
   "cell_type": "markdown",
   "id": "1996fba9",
   "metadata": {},
   "source": [
    "## Testing"
   ]
  }
 ],
 "metadata": {
  "kernelspec": {
   "display_name": "Python 3",
   "language": "python",
   "name": "python3"
  },
  "language_info": {
   "codemirror_mode": {
    "name": "ipython",
    "version": 3
   },
   "file_extension": ".py",
   "mimetype": "text/x-python",
   "name": "python",
   "nbconvert_exporter": "python",
   "pygments_lexer": "ipython3",
   "version": "3.12.9"
  }
 },
 "nbformat": 4,
 "nbformat_minor": 5
}
